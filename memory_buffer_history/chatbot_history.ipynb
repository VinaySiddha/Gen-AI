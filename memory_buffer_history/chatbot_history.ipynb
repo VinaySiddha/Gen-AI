{
 "cells": [
  {
   "cell_type": "code",
   "execution_count": 23,
   "metadata": {},
   "outputs": [],
   "source": [
    "import openai\n",
    "from collections import deque\n",
    "\n",
    "class Chatbot:\n",
    "    def __init__(self, api_key, buffer_size=5):\n",
    "        openai.api_key = api_key\n",
    "        self.buffer = deque(maxlen=buffer_size)\n",
    "        \n",
    "    def get_response(self, prompt):\n",
    "        # Using OpenAI API to get the response\n",
    "        response = openai.chat.completions.create(\n",
    "            model=\"gpt-3.5-turbo\",\n",
    "            prompt=prompt,\n",
    "            max_tokens=150\n",
    "        )\n",
    "        message = response.choices[0].text.strip()\n",
    "        self.buffer.append(message)\n",
    "        return message\n",
    "    \n",
    "    def get_summary(self):\n",
    "        # Summarize the conversation buffer\n",
    "        summary_prompt = \"Summarize this conversation: \" + \" \".join(self.buffer)\n",
    "        summary = openai.chat.Completion.create(\n",
    "            model=\"gpt-3.5-turbo\",\n",
    "            prompt=summary_prompt,\n",
    "            max_tokens=150\n",
    "        )\n",
    "        return summary.choices[0].text.strip()\n"
   ]
  },
  {
   "cell_type": "code",
   "execution_count": 2,
   "metadata": {},
   "outputs": [],
   "source": [
    "from pymongo import MongoClient\n",
    "import uuid\n",
    "\n",
    "class MongoDBHandler:\n",
    "    def __init__(self, connection_string, database_name):\n",
    "        self.client = MongoClient(connection_string)\n",
    "        self.db = self.client[database_name]\n",
    "        self.collection = self.db[\"conversations\"]\n",
    "        \n",
    "    def store_conversation(self, session_id, conversation_summary):\n",
    "        self.collection.insert_one({\"session_id\": session_id, \"summary\": conversation_summary})\n",
    "        \n",
    "    def get_conversation(self, session_id):\n",
    "        return self.collection.find_one({\"session_id\": session_id})\n"
   ]
  },
  {
   "cell_type": "code",
   "execution_count": 3,
   "metadata": {},
   "outputs": [],
   "source": [
    "from pymongo import MongoClient\n",
    "import uuid\n",
    "\n",
    "class MongoDBHandler:\n",
    "    def __init__(self, connection_string, database_name):\n",
    "        self.client = MongoClient(connection_string)\n",
    "        self.db = self.client[database_name]\n",
    "        self.collection = self.db[\"conversations\"]\n",
    "        \n",
    "    def store_conversation(self, session_id, conversation_summary):\n",
    "        self.collection.insert_one({\"session_id\": session_id, \"summary\": conversation_summary})\n",
    "        \n",
    "    def get_conversation(self, session_id):\n",
    "        return self.collection.find_one({\"session_id\": session_id})\n"
   ]
  },
  {
   "cell_type": "code",
   "execution_count": 4,
   "metadata": {},
   "outputs": [],
   "source": [
    "class ConversationManager:\n",
    "    def __init__(self, chatbot, mongodb_handler):\n",
    "        self.chatbot = chatbot\n",
    "        self.mongodb_handler = mongodb_handler\n",
    "        self.session_id = str(uuid.uuid4())\n",
    "        \n",
    "    def chat(self, prompt):\n",
    "        response = self.chatbot.get_response(prompt)\n",
    "        return response\n",
    "    \n",
    "    def end_conversation(self):\n",
    "        summary = self.chatbot.get_summary()\n",
    "        self.mongodb_handler.store_conversation(self.session_id, summary)\n",
    "        return self.session_id\n"
   ]
  },
  {
   "cell_type": "code",
   "execution_count": 24,
   "metadata": {},
   "outputs": [
    {
     "ename": "TypeError",
     "evalue": "Missing required arguments; Expected either ('messages' and 'model') or ('messages', 'model' and 'stream') arguments to be given",
     "output_type": "error",
     "traceback": [
      "\u001b[1;31m---------------------------------------------------------------------------\u001b[0m",
      "\u001b[1;31mTypeError\u001b[0m                                 Traceback (most recent call last)",
      "Cell \u001b[1;32mIn[24], line 12\u001b[0m\n\u001b[0;32m      9\u001b[0m manager \u001b[38;5;241m=\u001b[39m ConversationManager(chatbot, mongodb_handler)\n\u001b[0;32m     11\u001b[0m \u001b[38;5;66;03m# Example conversation\u001b[39;00m\n\u001b[1;32m---> 12\u001b[0m \u001b[38;5;28mprint\u001b[39m(\u001b[43mmanager\u001b[49m\u001b[38;5;241;43m.\u001b[39;49m\u001b[43mchat\u001b[49m\u001b[43m(\u001b[49m\u001b[38;5;124;43m\"\u001b[39;49m\u001b[38;5;124;43mHello, how are you?\u001b[39;49m\u001b[38;5;124;43m\"\u001b[39;49m\u001b[43m)\u001b[49m)\n\u001b[0;32m     13\u001b[0m \u001b[38;5;66;03m# print(manager.chat(\"Tell me a joke.\"))\u001b[39;00m\n\u001b[0;32m     14\u001b[0m \u001b[38;5;66;03m# print(manager.chat(\"What is the weather like today?\"))\u001b[39;00m\n\u001b[0;32m     15\u001b[0m \n\u001b[0;32m     16\u001b[0m \u001b[38;5;66;03m# # End conversation and store in MongoDB\u001b[39;00m\n\u001b[0;32m     17\u001b[0m \u001b[38;5;66;03m# session_id = manager.end_conversation()\u001b[39;00m\n\u001b[0;32m     18\u001b[0m \u001b[38;5;66;03m# print(f\"Session ID: {session_id}\")\u001b[39;00m\n",
      "Cell \u001b[1;32mIn[4], line 8\u001b[0m, in \u001b[0;36mConversationManager.chat\u001b[1;34m(self, prompt)\u001b[0m\n\u001b[0;32m      7\u001b[0m \u001b[38;5;28;01mdef\u001b[39;00m \u001b[38;5;21mchat\u001b[39m(\u001b[38;5;28mself\u001b[39m, prompt):\n\u001b[1;32m----> 8\u001b[0m     response \u001b[38;5;241m=\u001b[39m \u001b[38;5;28;43mself\u001b[39;49m\u001b[38;5;241;43m.\u001b[39;49m\u001b[43mchatbot\u001b[49m\u001b[38;5;241;43m.\u001b[39;49m\u001b[43mget_response\u001b[49m\u001b[43m(\u001b[49m\u001b[43mprompt\u001b[49m\u001b[43m)\u001b[49m\n\u001b[0;32m      9\u001b[0m     \u001b[38;5;28;01mreturn\u001b[39;00m response\n",
      "Cell \u001b[1;32mIn[23], line 11\u001b[0m, in \u001b[0;36mChatbot.get_response\u001b[1;34m(self, prompt)\u001b[0m\n\u001b[0;32m      9\u001b[0m \u001b[38;5;28;01mdef\u001b[39;00m \u001b[38;5;21mget_response\u001b[39m(\u001b[38;5;28mself\u001b[39m, prompt):\n\u001b[0;32m     10\u001b[0m     \u001b[38;5;66;03m# Using OpenAI API to get the response\u001b[39;00m\n\u001b[1;32m---> 11\u001b[0m     response \u001b[38;5;241m=\u001b[39m \u001b[43mopenai\u001b[49m\u001b[38;5;241;43m.\u001b[39;49m\u001b[43mchat\u001b[49m\u001b[38;5;241;43m.\u001b[39;49m\u001b[43mcompletions\u001b[49m\u001b[38;5;241;43m.\u001b[39;49m\u001b[43mcreate\u001b[49m\u001b[43m(\u001b[49m\n\u001b[0;32m     12\u001b[0m \u001b[43m        \u001b[49m\u001b[43mmodel\u001b[49m\u001b[38;5;241;43m=\u001b[39;49m\u001b[38;5;124;43m\"\u001b[39;49m\u001b[38;5;124;43mgpt-3.5-turbo\u001b[39;49m\u001b[38;5;124;43m\"\u001b[39;49m\u001b[43m,\u001b[49m\n\u001b[0;32m     13\u001b[0m \u001b[43m        \u001b[49m\u001b[43mprompt\u001b[49m\u001b[38;5;241;43m=\u001b[39;49m\u001b[43mprompt\u001b[49m\u001b[43m,\u001b[49m\n\u001b[0;32m     14\u001b[0m \u001b[43m        \u001b[49m\u001b[43mmax_tokens\u001b[49m\u001b[38;5;241;43m=\u001b[39;49m\u001b[38;5;241;43m150\u001b[39;49m\n\u001b[0;32m     15\u001b[0m \u001b[43m    \u001b[49m\u001b[43m)\u001b[49m\n\u001b[0;32m     16\u001b[0m     message \u001b[38;5;241m=\u001b[39m response\u001b[38;5;241m.\u001b[39mchoices[\u001b[38;5;241m0\u001b[39m]\u001b[38;5;241m.\u001b[39mtext\u001b[38;5;241m.\u001b[39mstrip()\n\u001b[0;32m     17\u001b[0m     \u001b[38;5;28mself\u001b[39m\u001b[38;5;241m.\u001b[39mbuffer\u001b[38;5;241m.\u001b[39mappend(message)\n",
      "File \u001b[1;32mc:\\Users\\vinay\\AppData\\Local\\Programs\\Python\\Python312\\Lib\\site-packages\\openai\\_utils\\_utils.py:276\u001b[0m, in \u001b[0;36mrequired_args.<locals>.inner.<locals>.wrapper\u001b[1;34m(*args, **kwargs)\u001b[0m\n\u001b[0;32m    274\u001b[0m         \u001b[38;5;28;01melse\u001b[39;00m:\n\u001b[0;32m    275\u001b[0m             msg \u001b[38;5;241m=\u001b[39m \u001b[38;5;124mf\u001b[39m\u001b[38;5;124m\"\u001b[39m\u001b[38;5;124mMissing required argument: \u001b[39m\u001b[38;5;132;01m{\u001b[39;00mquote(missing[\u001b[38;5;241m0\u001b[39m])\u001b[38;5;132;01m}\u001b[39;00m\u001b[38;5;124m\"\u001b[39m\n\u001b[1;32m--> 276\u001b[0m     \u001b[38;5;28;01mraise\u001b[39;00m \u001b[38;5;167;01mTypeError\u001b[39;00m(msg)\n\u001b[0;32m    277\u001b[0m \u001b[38;5;28;01mreturn\u001b[39;00m func(\u001b[38;5;241m*\u001b[39margs, \u001b[38;5;241m*\u001b[39m\u001b[38;5;241m*\u001b[39mkwargs)\n",
      "\u001b[1;31mTypeError\u001b[0m: Missing required arguments; Expected either ('messages' and 'model') or ('messages', 'model' and 'stream') arguments to be given"
     ]
    }
   ],
   "source": [
    "import os\n",
    "# Initialize the components\n",
    "api_key = os.getenv(\"OPENAI_API_KEY\")\n",
    "connection_string = \"MONGODB_CONNECTION_STRING\"\n",
    "database_name = \"chatbot_db\"\n",
    "\n",
    "chatbot = Chatbot(api_key)\n",
    "mongodb_handler = MongoDBHandler(connection_string, database_name)\n",
    "manager = ConversationManager(chatbot, mongodb_handler)\n",
    "\n",
    "# Example conversation\n",
    "print(manager.chat(\"Hello, how are you?\"))\n",
    "# print(manager.chat(\"Tell me a joke.\"))\n",
    "# print(manager.chat(\"What is the weather like today?\"))\n",
    "\n",
    "# # End conversation and store in MongoDB\n",
    "# session_id = manager.end_conversation()\n",
    "# print(f\"Session ID: {session_id}\")\n"
   ]
  }
 ],
 "metadata": {
  "kernelspec": {
   "display_name": "Python 3",
   "language": "python",
   "name": "python3"
  },
  "language_info": {
   "codemirror_mode": {
    "name": "ipython",
    "version": 3
   },
   "file_extension": ".py",
   "mimetype": "text/x-python",
   "name": "python",
   "nbconvert_exporter": "python",
   "pygments_lexer": "ipython3",
   "version": "3.12.4"
  }
 },
 "nbformat": 4,
 "nbformat_minor": 2
}
